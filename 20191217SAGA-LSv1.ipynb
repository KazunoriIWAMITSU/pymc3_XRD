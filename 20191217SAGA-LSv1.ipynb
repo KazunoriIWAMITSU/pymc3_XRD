{
 "cells": [
  {
   "cell_type": "code",
   "execution_count": null,
   "metadata": {},
   "outputs": [],
   "source": [
    "############################################\n",
    "import os \n",
    "import matplotlib as mpl\n",
    "import matplotlib.pyplot as plt\n",
    "from matplotlib.backends.backend_pdf import PdfPages\n",
    "%matplotlib inline\n",
    "#\n",
    "import numpy as np\n",
    "#\n",
    "# https://docs.pymc.io/\n",
    "import pymc3 as pm\n",
    "import theano\n",
    "import time\n",
    "from pymc3.backends.base import merge_traces\n",
    "#\n",
    "print('numpy      Ver.', np.__version__)\n",
    "print('matplotlib Ver.', mpl.__version__)\n",
    "print('pymc3      Ver.', pm.__version__)\n",
    "print('theano     Ver.', theano.__version__)\n",
    "#\n",
    "#\n",
    "file_path = \"pdf/\"\n",
    "#\n",
    "if( True != os.path.isdir(file_path) ):\n",
    "    print('making ', file_path )\n",
    "    os.mkdir(file_path)\n",
    "else:\n",
    "    print(file_path, ' is exist.' )"
   ]
  },
  {
   "cell_type": "code",
   "execution_count": null,
   "metadata": {},
   "outputs": [],
   "source": [
    "######################################\n",
    "XRDdata = np.loadtxt('20190810SAGA-LS.txt')\n",
    "#\n",
    "XRD_x = XRDdata[:,0]\n",
    "XRD_y = XRDdata[:,1]"
   ]
  },
  {
   "cell_type": "code",
   "execution_count": null,
   "metadata": {},
   "outputs": [],
   "source": [
    "######################################\n",
    "def Grf1(X, Y):\n",
    "    #\n",
    "    plt.rcParams['font.size'] = 16\n",
    "    #\n",
    "    fig = plt.figure( figsize=(6,6) )\n",
    "    fig.subplots_adjust( \\\n",
    "            left=0.15, right=0.98, \n",
    "            top=0.93,  bottom=0.1 )\n",
    "    #\n",
    "    ax1 = fig.add_subplot(1,1,1)\n",
    "    ax1.set_xlabel( r'$R2\\theta/\\phi$')\n",
    "    ax1.set_ylabel('Intensity')\n",
    "    ax1.set_yscale('log')\n",
    "    #\n",
    "    ax1.plot(X, Y, color='black', \\\n",
    "             linewidth=2.0, \\\n",
    "             label=r'$\\phi=110.12^\\circ$' )\n",
    "    #\n",
    "    plt.legend()\n",
    "    #\n",
    "    return fig"
   ]
  },
  {
   "cell_type": "code",
   "execution_count": null,
   "metadata": {},
   "outputs": [],
   "source": [
    "fig = Grf1( XRD_x, XRD_y )"
   ]
  },
  {
   "cell_type": "code",
   "execution_count": null,
   "metadata": {},
   "outputs": [],
   "source": [
    "############################################\n",
    "def TwoGauss(X, a1, mu1, sd1, \\\n",
    "              a2, mu2, sd2, ):\n",
    "    y = a1*np.exp(-(X-mu1)*(X-mu1)/(2*sd1*sd1)) + \\\n",
    "        a2*np.exp(-(X-mu2)*(X-mu2)/(2*sd2*sd2)) \n",
    "    return y"
   ]
  },
  {
   "cell_type": "code",
   "execution_count": null,
   "metadata": {},
   "outputs": [],
   "source": [
    "fit_y = TwoGauss( XRD_x, 0.8, 39.31, 0.5, 3E-2, 38.92, 0.5 )"
   ]
  },
  {
   "cell_type": "code",
   "execution_count": null,
   "metadata": {},
   "outputs": [],
   "source": [
    "######################################\n",
    "def Grf2(X, Y1, Y2):\n",
    "    #\n",
    "    plt.rcParams['font.size'] = 16\n",
    "    #\n",
    "    fig = plt.figure( figsize=(6,6) )\n",
    "    fig.subplots_adjust( \\\n",
    "            left=0.15, right=0.98, \n",
    "            top=0.93,  bottom=0.1 )\n",
    "    #\n",
    "    ax1 = fig.add_subplot(1,1,1)\n",
    "    ax1.set_xlabel( r'$R2\\theta/\\phi$')\n",
    "    ax1.set_ylabel('Intensity')\n",
    "    ax1.set_ylim(1E-4,1)\n",
    "    ax1.set_yscale('log')\n",
    "    #\n",
    "    ax1.plot(X, Y1, color='black', \\\n",
    "             linewidth=2.0, \\\n",
    "             label=r'$\\phi=110.12^\\circ$' )\n",
    "    #\n",
    "    ax1.plot(X, Y2, color='red', \\\n",
    "             linewidth=1.5, \\\n",
    "             label='fit' )\n",
    "    #\n",
    "    plt.legend()\n",
    "    #\n",
    "    return fig"
   ]
  },
  {
   "cell_type": "code",
   "execution_count": null,
   "metadata": {},
   "outputs": [],
   "source": [
    "fit_y = TwoGauss( XRD_x, 0.8, 39.31, 0.1, 3E-2, 38.92, 0.1 )\n",
    "fig = Grf2( XRD_x, XRD_y, fit_y )"
   ]
  },
  {
   "cell_type": "code",
   "execution_count": null,
   "metadata": {},
   "outputs": [],
   "source": [
    "############################################\n",
    "def TwoLorentz(X, a1, mu1, w1, \\\n",
    "              a2, mu2, w2, ):\n",
    "    y = a1 * w1*w1 /( (X-mu1)*(X-mu1) + w1*w1 ) + \\\n",
    "        a2 * w2*w2 /( (X-mu2)*(X-mu2) + w2*w2 ) \n",
    "    return y"
   ]
  },
  {
   "cell_type": "code",
   "execution_count": null,
   "metadata": {},
   "outputs": [],
   "source": [
    "fit_y = TwoLorentz( XRD_x, 0.75, 39.31, 0.03, 2.5E-2, 38.92, 0.04 )\n",
    "fig = Grf2( XRD_x, XRD_y, fit_y )"
   ]
  },
  {
   "cell_type": "code",
   "execution_count": null,
   "metadata": {},
   "outputs": [],
   "source": [
    "############################################\n",
    "def pVoigt1(X, mu, xc, wL, wG):\n",
    "    y = mu     * (2/np.pi) * wL /( 4*(X-xc)*(X-xc) + wL*wL ) + \\\n",
    "        (1-mu) * (np.sqrt(4*np.log(2)/np.pi)/wG) * np.exp( - 4*np.log(2) * (X-xc)*(X-xc)/(wG*wG) ) \n",
    "    return y\n",
    "############################################\n",
    "def TwopVoigt1(X, a1, mu1, xc1, wL1, wG1, \\\n",
    "                  a2, mu2, xc2, wL2, wG2 ):\n",
    "    y = a1 * pVoigt1(X, mu1, xc1, wL1, wG1) + \\\n",
    "        a2 * pVoigt1(X, mu2, xc2, wL2, wG2) \n",
    "    return y"
   ]
  },
  {
   "cell_type": "code",
   "execution_count": null,
   "metadata": {},
   "outputs": [],
   "source": [
    "fit_y = TwopVoigt1( XRD_x, 8.4e-2, 0.5, 39.31, 0.10, 0.15, \n",
    "                           3.8E-3, 0.4, 38.92, 0.10, 0.25 )\n",
    "fig = Grf2( XRD_x, XRD_y, fit_y )"
   ]
  },
  {
   "cell_type": "code",
   "execution_count": null,
   "metadata": {},
   "outputs": [],
   "source": [
    "############################################\n",
    "def TwopVoigt1v1(X, a1, xc1, wG1, \\\n",
    "                    a2, xc2, wG2 ):\n",
    "    y = a1 * pVoigt1(X, 0.5, xc1, 0.1, wG1) + \\\n",
    "        a2 * pVoigt1(X, 0.4, xc2, 0.1, wG2) \n",
    "    return y"
   ]
  },
  {
   "cell_type": "code",
   "execution_count": null,
   "metadata": {},
   "outputs": [],
   "source": [
    "fit_y = TwopVoigt1v1( XRD_x, 8.4e-2, 39.31, 0.15, \n",
    "                             3.8E-3, 38.92, 0.25 )\n",
    "fig = Grf2( XRD_x, XRD_y, fit_y )"
   ]
  },
  {
   "cell_type": "code",
   "execution_count": null,
   "metadata": {},
   "outputs": [],
   "source": [
    "a1v1  = 8.4e-2\n",
    "xc1v1 = 39.31\n",
    "wG1v1 = 0.15\n",
    "a2v1  = 3.8E-3\n",
    "xc2v1 = 38.92\n",
    "wG2v1 = 0.25 "
   ]
  },
  {
   "cell_type": "code",
   "execution_count": null,
   "metadata": {},
   "outputs": [],
   "source": [
    "with pm.Model() as model:\n",
    "    a1 = pm.Gamma('a1', alpha=5.0,beta=50.0 )\n",
    "    Gamma_a1 = a1.random(size=10000)\n",
    "\n",
    "plt.rcParams['font.size'] = 16\n",
    "#\n",
    "fig = plt.figure( figsize=(6,6) )\n",
    "fig.subplots_adjust( \\\n",
    "            left=0.15, right=0.98, \n",
    "            top=0.93,  bottom=0.1 )\n",
    "#\n",
    "ax1 = fig.add_subplot(1,1,1)\n",
    "ax1.set_xlabel( r'$a$')\n",
    "ax1.set_ylabel('Intensity')\n",
    "#\n",
    "bin_vals, bins, patches = ax1.hist( Gamma_a1, bins=100, density=True, \n",
    "                                    color='gray', label=r'$Gamma_{a}$')\n",
    "#\n",
    "(y_bot, y_top) = ax1.set_ylim()\n",
    "#\n",
    "ax1.vlines( a1v1, y_bot, y_top, \n",
    "            color='red', linestyles='dashed', linewidth=1.0, \n",
    "            label=r'$a_{1}$')\n",
    "#\n",
    "# ax1.vlines( a2v1, y_bot, y_top, \n",
    "#             color='blue', linestyles='dashed', linewidth=1.0, \n",
    "#             label=r'$a_{2}$')"
   ]
  },
  {
   "cell_type": "code",
   "execution_count": null,
   "metadata": {},
   "outputs": [],
   "source": [
    "with pm.Model() as model:\n",
    "    a2 = pm.Gamma('a2', alpha=5.0,beta=1050.0 )\n",
    "    Gamma_a2 = a2.random(size=10000)\n",
    "\n",
    "plt.rcParams['font.size'] = 16\n",
    "#\n",
    "fig = plt.figure( figsize=(6,6) )\n",
    "fig.subplots_adjust( \\\n",
    "            left=0.15, right=0.98, \n",
    "            top=0.93,  bottom=0.1 )\n",
    "#\n",
    "ax1 = fig.add_subplot(1,1,1)\n",
    "ax1.set_xlabel( r'$a$')\n",
    "ax1.set_ylabel('Intensity')\n",
    "#\n",
    "bin_vals, bins, patches = ax1.hist( Gamma_a2, bins=100, density=True, \n",
    "                                    color='gray', label=r'$Gamma_{a}$')\n",
    "#\n",
    "(y_bot, y_top) = ax1.set_ylim()\n",
    "#\n",
    "# ax1.vlines( a1v1, y_bot, y_top, \n",
    "#             color='red', linestyles='dashed', linewidth=1.0, \n",
    "#             label=r'$a_{1}$')\n",
    "#\n",
    "ax1.vlines( a2v1, y_bot, y_top, \n",
    "            color='blue', linestyles='dashed', linewidth=1.0, \n",
    "            label=r'$a_{2}$')"
   ]
  },
  {
   "cell_type": "code",
   "execution_count": null,
   "metadata": {},
   "outputs": [],
   "source": [
    "with pm.Model() as model:\n",
    "    xc1 = pm.Normal('xc1', mu=39.31, sd=0.2 )\n",
    "    Normal_xc1 = xc1.random(size=10000)\n",
    "\n",
    "plt.rcParams['font.size'] = 16\n",
    "#\n",
    "fig = plt.figure( figsize=(6,6) )\n",
    "fig.subplots_adjust( \\\n",
    "            left=0.15, right=0.98, \n",
    "            top=0.93,  bottom=0.1 )\n",
    "#\n",
    "ax1 = fig.add_subplot(1,1,1)\n",
    "ax1.set_xlabel( r'$xc$')\n",
    "ax1.set_ylabel('Intensity')\n",
    "#\n",
    "bin_vals, bins, patches = ax1.hist( Normal_xc1, bins=100, # density=True, \n",
    "                                    color='gray', label=r'$Gamma_{a}$')\n",
    "#\n",
    "(y_bot, y_top) = ax1.set_ylim()\n",
    "#\n",
    "ax1.vlines( xc1v1, y_bot, y_top, \n",
    "             color='red', linestyles='dashed', linewidth=1.0, \n",
    "             label=r'$xc_{1}$')\n",
    "#\n",
    "ax1.vlines( xc2v1, y_bot, y_top, \n",
    "            color='blue', linestyles='dashed', linewidth=1.0, \n",
    "            label=r'$xc_{2}$')"
   ]
  },
  {
   "cell_type": "code",
   "execution_count": null,
   "metadata": {},
   "outputs": [],
   "source": [
    "with pm.Model() as model:\n",
    "    xc2 = pm.Normal('xc2', mu=38.92, sd=0.2 )\n",
    "    Normal_xc2 = xc2.random(size=10000)\n",
    "\n",
    "plt.rcParams['font.size'] = 16\n",
    "#\n",
    "fig = plt.figure( figsize=(6,6) )\n",
    "fig.subplots_adjust( \\\n",
    "            left=0.15, right=0.98, \n",
    "            top=0.93,  bottom=0.1 )\n",
    "#\n",
    "ax1 = fig.add_subplot(1,1,1)\n",
    "ax1.set_xlabel( r'$xc$')\n",
    "ax1.set_ylabel('Intensity')\n",
    "#\n",
    "bin_vals, bins, patches = ax1.hist( Normal_xc2, bins=100, # density=True, \n",
    "                                    color='gray', label=r'$Gamma_{a}$')\n",
    "#\n",
    "(y_bot, y_top) = ax1.set_ylim()\n",
    "#\n",
    "ax1.vlines( xc1v1, y_bot, y_top, \n",
    "             color='red', linestyles='dashed', linewidth=1.0, \n",
    "             label=r'$xc_{1}$')\n",
    "#\n",
    "ax1.vlines( xc2v1, y_bot, y_top, \n",
    "            color='blue', linestyles='dashed', linewidth=1.0, \n",
    "            label=r'$xc_{2}$')"
   ]
  },
  {
   "cell_type": "code",
   "execution_count": null,
   "metadata": {},
   "outputs": [],
   "source": [
    "with pm.Model() as model:\n",
    "    wG = pm.Gamma('wG', alpha=5.0,beta=21.0 )\n",
    "    Gamma_wG = wG.random(size=10000)\n",
    "\n",
    "plt.rcParams['font.size'] = 16\n",
    "#\n",
    "fig = plt.figure( figsize=(6,6) )\n",
    "fig.subplots_adjust( \\\n",
    "            left=0.15, right=0.98, \n",
    "            top=0.93,  bottom=0.1 )\n",
    "#\n",
    "ax1 = fig.add_subplot(1,1,1)\n",
    "ax1.set_xlabel( r'$wG$')\n",
    "ax1.set_ylabel('Intensity')\n",
    "#\n",
    "bin_vals, bins, patches = ax1.hist( Gamma_wG, bins=100, density=True, \n",
    "                                    color='gray', label=r'$Gamma_{a}$')\n",
    "#\n",
    "(y_bot, y_top) = ax1.set_ylim()\n",
    "#\n",
    "ax1.vlines( wG1v1, y_bot, y_top, \n",
    "            color='red', linestyles='dashed', linewidth=1.0, \n",
    "            label=r'$wG_{1}$')\n",
    "#\n",
    "ax1.vlines( wG2v1, y_bot, y_top, \n",
    "            color='blue', linestyles='dashed', linewidth=1.0, \n",
    "            label=r'$wG_{2}$')"
   ]
  },
  {
   "cell_type": "code",
   "execution_count": null,
   "metadata": {},
   "outputs": [],
   "source": [
    "with pm.Model() as model:\n",
    "    #\n",
    "    a1 = pm.Gamma('a1', alpha=5.0,beta=50.0 )\n",
    "    a2 = pm.Gamma('a2', alpha=5.0,beta=1050.0 )\n",
    "    #\n",
    "    xc1 = pm.Normal('xc1', mu=39.31, sd=0.2 )\n",
    "    xc2 = pm.Normal('xc2', mu=38.92, sd=0.2 )\n",
    "    #\n",
    "    wG1 = pm.Gamma('wG1', alpha=5.0,beta=21.0 )\n",
    "    wG2 = pm.Gamma('wG2', alpha=5.0,beta=21.0 )\n",
    "    #\n",
    "    rmsd = pm.Uniform('rmsd', lower=0, upper=0.1)\n",
    "    #\n",
    "    y = pm.Normal('y', \\\n",
    "                  mu = TwopVoigt1v1( XRD_x, \\\n",
    "                                     a1, xc1, wG1, \\\n",
    "                                     a2, xc2, wG2 ), \\\n",
    "                  sd=rmsd, observed=XRD_y )\n",
    "    #\n",
    "    trace = pm.sample(10000, tune=10000, chains=2)"
   ]
  },
  {
   "cell_type": "code",
   "execution_count": null,
   "metadata": {},
   "outputs": [],
   "source": [
    "pm.traceplot(trace)"
   ]
  },
  {
   "cell_type": "code",
   "execution_count": null,
   "metadata": {},
   "outputs": [],
   "source": [
    "pm.summary(trace)"
   ]
  },
  {
   "cell_type": "code",
   "execution_count": null,
   "metadata": {},
   "outputs": [],
   "source": [
    "summary_a1 = pm.summary( trace, ['a1'])\n",
    "summary_a2 = pm.summary( trace, ['a2'])\n",
    "summary_xc1 = pm.summary( trace, ['xc1'])\n",
    "summary_xc2 = pm.summary( trace, ['xc2'])\n",
    "summary_wG1 = pm.summary( trace, ['wG1'])\n",
    "summary_wG2 = pm.summary( trace, ['wG2'])\n",
    "a1_mean = np.float( summary_a1['mean'])\n",
    "a1_sd   = np.float( summary_a1['sd'])\n",
    "a2_mean = np.float( summary_a2['mean'])\n",
    "a2_sd   = np.float( summary_a2['sd'])\n",
    "xc1_mean = np.float( summary_xc1['mean'])\n",
    "xc1_sd   = np.float( summary_xc1['sd'])\n",
    "xc2_mean = np.float( summary_xc2['mean'])\n",
    "xc2_sd   = np.float( summary_xc2['sd'])\n",
    "wG1_mean = np.float( summary_wG1['mean'])\n",
    "wG1_sd   = np.float( summary_wG1['sd'])\n",
    "wG2_mean = np.float( summary_wG2['mean'])\n",
    "wG2_sd   = np.float( summary_wG2['sd'])\n",
    "print( 'a1  =  %.5f +- %.5f' % (a1_mean, a1_sd) )\n",
    "print( 'xc1 = %.5f +- %.5f' % (xc1_mean, xc1_sd) )\n",
    "print( 'wG1 =  %.5f +- %.5f' % (wG1_mean, wG1_sd) )\n",
    "print( 'a2  =  %.5f +- %.5f' % (a2_mean, a2_sd) )\n",
    "print( 'xc2 = %.5f +- %.5f' % (xc2_mean, xc2_sd) )\n",
    "print( 'wG2 =  %.5f +- %.5f' % (wG2_mean, wG2_sd) )"
   ]
  },
  {
   "cell_type": "code",
   "execution_count": null,
   "metadata": {},
   "outputs": [],
   "source": [
    "fit_y = TwopVoigt1v1( XRD_x, a1_mean, xc1_mean, wG1_mean, \n",
    "                             a2_mean, xc2_mean, wG2_mean )\n",
    "fig = Grf2( XRD_x, XRD_y, fit_y )"
   ]
  },
  {
   "cell_type": "code",
   "execution_count": null,
   "metadata": {},
   "outputs": [],
   "source": [
    "######################################\n",
    "def Grf3(X, Y1, Y2, Y3):\n",
    "    #\n",
    "    plt.rcParams['font.size'] = 16\n",
    "    #\n",
    "    fig = plt.figure( figsize=(6,6) )\n",
    "    fig.subplots_adjust( \\\n",
    "            left=0.15, right=0.98, \n",
    "            top=0.93,  bottom=0.1 )\n",
    "    #\n",
    "    ax1 = fig.add_subplot(1,1,1)\n",
    "    ax1.set_xlabel( r'$R2\\theta/\\phi$')\n",
    "    ax1.set_ylabel('Intensity')\n",
    "    ax1.set_ylim(1E-4,1)\n",
    "    ax1.set_yscale('log')\n",
    "    #\n",
    "    ax1.plot(X, Y1, color='black', \\\n",
    "             linewidth=2.0, \\\n",
    "             label=r'$\\phi=110.12^\\circ$' )\n",
    "    #\n",
    "    ax1.plot(X, Y2, color='red',  linewidth=1.5, label='peak1')\n",
    "    ax1.plot(X, Y3, color='blue', linewidth=1.5, label='peak2')\n",
    "    #\n",
    "    plt.legend()\n",
    "    #\n",
    "    return fig"
   ]
  },
  {
   "cell_type": "code",
   "execution_count": null,
   "metadata": {},
   "outputs": [],
   "source": [
    "fit_y1 = a1_mean * pVoigt1(XRD_x, 0.5, xc1_mean, 0.1, wG1_mean)\n",
    "fit_y2 = a2_mean * pVoigt1(XRD_x, 0.4, xc2_mean, 0.1, wG2_mean)\n",
    "fig = Grf3( XRD_x, XRD_y, fit_y1, fit_y2 )"
   ]
  },
  {
   "cell_type": "code",
   "execution_count": null,
   "metadata": {},
   "outputs": [],
   "source": [
    "csv = np.zeros( (XRD_x.size, 4), dtype='float' )\n",
    "csv[:,0] = XRD_x\n",
    "csv[:,1] = fit_y1\n",
    "csv[:,2] = fit_y2\n",
    "csv[:,3] = fit_y"
   ]
  },
  {
   "cell_type": "code",
   "execution_count": null,
   "metadata": {},
   "outputs": [],
   "source": [
    "np.savetxt('pymc-fit.txt', csv, delimiter=',')"
   ]
  },
  {
   "cell_type": "code",
   "execution_count": null,
   "metadata": {},
   "outputs": [],
   "source": [
    "for samples in trace.get_values('a1', combine=False):\n",
    "    print(samples)"
   ]
  },
  {
   "cell_type": "code",
   "execution_count": null,
   "metadata": {},
   "outputs": [],
   "source": [
    "trace.get_values('a1', combine=False)[0]"
   ]
  },
  {
   "cell_type": "code",
   "execution_count": null,
   "metadata": {},
   "outputs": [],
   "source": [
    "csv_sample_c1 = np.zeros( (10000, 6), dtype='float' )\n",
    "csv_sample_c1[:,0] = trace.get_values('xc1', combine=False)[0]\n",
    "csv_sample_c1[:,1] = trace.get_values('a1',  combine=False)[0]\n",
    "csv_sample_c1[:,2] = trace.get_values('wG1',  combine=False)[0]\n",
    "csv_sample_c1[:,3] = trace.get_values('xc2', combine=False)[0]\n",
    "csv_sample_c1[:,4] = trace.get_values('a2',  combine=False)[0]\n",
    "csv_sample_c1[:,5] = trace.get_values('wG2',  combine=False)[0]\n",
    "np.savetxt('pymc-c1-sample.txt', csv_sample_c1, delimiter=',')"
   ]
  },
  {
   "cell_type": "code",
   "execution_count": null,
   "metadata": {},
   "outputs": [],
   "source": [
    "csv_sample_c2 = np.zeros( (10000, 6), dtype='float' )\n",
    "csv_sample_c2[:,0] = trace.get_values('xc1', combine=False)[1]\n",
    "csv_sample_c2[:,1] = trace.get_values('a1',  combine=False)[1]\n",
    "csv_sample_c2[:,2] = trace.get_values('wG1',  combine=False)[1]\n",
    "csv_sample_c2[:,3] = trace.get_values('xc2', combine=False)[1]\n",
    "csv_sample_c2[:,4] = trace.get_values('a2',  combine=False)[1]\n",
    "csv_sample_c2[:,5] = trace.get_values('wG2',  combine=False)[1]\n",
    "np.savetxt('pymc-c2-sample.txt', csv_sample_c2, delimiter=',')"
   ]
  },
  {
   "cell_type": "code",
   "execution_count": null,
   "metadata": {},
   "outputs": [],
   "source": []
  }
 ],
 "metadata": {
  "kernelspec": {
   "display_name": "Python 3",
   "language": "python",
   "name": "python3"
  },
  "language_info": {
   "codemirror_mode": {
    "name": "ipython",
    "version": 3
   },
   "file_extension": ".py",
   "mimetype": "text/x-python",
   "name": "python",
   "nbconvert_exporter": "python",
   "pygments_lexer": "ipython3",
   "version": "3.7.5"
  }
 },
 "nbformat": 4,
 "nbformat_minor": 2
}
